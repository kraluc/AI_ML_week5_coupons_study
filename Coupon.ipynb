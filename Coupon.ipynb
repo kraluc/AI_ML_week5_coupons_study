{
 "cells": [
  {
   "attachments": {},
   "cell_type": "markdown",
   "metadata": {},
   "source": [
    "# Will the customer accept the coupon?\n",
    "\n",
    "## Overview\n",
    "\n",
    "In this first practical application assignment of the program, you will seek to answer the question, “Will a customer accept the coupon?” The goal of this project is to use what you know about visualizations and probability distributions to distinguish between customers who accepted a driving coupon versus those that did not. Use the [Coupon Jupyter Notebook](./Coupon.ipynb) to complete this assignment."
   ]
  },
  {
   "attachments": {},
   "cell_type": "markdown",
   "metadata": {},
   "source": [
    "### Dataset\n",
    "\n",
    "This data comes to us from the UCI Machine Learning repository and was collected via a survey on Amazon Mechanical Turk.\n",
    "+ The survey describes different driving scenarios, including the destination, current time, weather, passenger, etc., and then asks people whether they will accept the coupon if they are the driver.\n",
    "+ Answers given that the users will drive there “right away” or “later before the coupon expires” are labeled as “Y = 1”, and answers “no, I do not want the coupon” are labeled as “Y = 0”.\n",
    "+ There are five different types of coupons—less expensive restaurants (under $20), coffee houses, carry out and take away, bars, and more expensive restaurants ($20–$50).  \n",
    "\n",
    "A local copy [in-vehicle-coupon-recommendation.csv](https://archive.ics.uci.edu/ml/machine-learning-databases/00603/in-vehicle-coupon-recommendation.csv) of the csv data was downloaded from UCI Machine Learning repository."
   ]
  },
  {
   "attachments": {},
   "cell_type": "markdown",
   "metadata": {},
   "source": [
    "### Prerequisites\n",
    "\n",
    "Python modules can be installed using\n",
    "\n",
    "```python\n",
    "python -m pip install requirements.txt\n",
    "```"
   ]
  },
  {
   "cell_type": "code",
   "execution_count": 13,
   "metadata": {},
   "outputs": [],
   "source": [
    "import plotly.express as px\n",
    "import matplotlib.pyplot as plt\n",
    "import seaborn as sns\n",
    "import numpy as np\n",
    "import pandas as pd\n",
    "import os"
   ]
  },
  {
   "cell_type": "code",
   "execution_count": 14,
   "metadata": {},
   "outputs": [],
   "source": [
    "# Create image directory if it does not exist\n",
    "os.makedirs('images', exist_ok=True)"
   ]
  },
  {
   "attachments": {},
   "cell_type": "markdown",
   "metadata": {},
   "source": [
    "### Import the data into Pandas"
   ]
  },
  {
   "cell_type": "code",
   "execution_count": 15,
   "metadata": {},
   "outputs": [],
   "source": [
    "#data = \"https://archive.ics.uci.edu/ml/machine-learning-databases/00603/in-vehicle-coupon-recommendation.csv\"\n",
    "data = \"in-vehicle-coupon-recommendation.csv\"\n",
    "df = pd.read_csv(data)"
   ]
  },
  {
   "attachments": {},
   "cell_type": "markdown",
   "metadata": {},
   "source": [
    "### Data overview"
   ]
  },
  {
   "attachments": {},
   "cell_type": "markdown",
   "metadata": {},
   "source": [
    "### Quality and Understanding Checklist \n",
    "\n",
    "+ [X] How many rows and columns? Ans: 10 x 26\n",
    "+ [X] Which data types are there? Ans: 18 objects and 8 Int64 (some are really bools)\n",
    "+ [X] How many categorical and numerical columns? \n",
    "+ [ ] How many dummy columns (boolean values ; yes/no) \n",
    "+ [ ] Are the date column(s) read in the right format?\n",
    "+ [ ] Are the categorical / numerical column read in the right format?\n",
    "+ [ ] Are there any duplicates in the data?\n",
    "+ [X] How many missing values are there? Do any variables have mostly or all missing values? - Ans: only 108 rows with specified cars\n",
    "+ [ ] Are you going to impute the missing value or drop them?\n",
    "+ [ ] How would you impute the missing values in numerical vs categorical variables?\n",
    "+ [ ] Are there strange minimum or maximum values (outliers)? \n",
    "+ [ ] Are there strange mean values or large differences between mean and median?\n",
    "+ [ ] Is there a large skew or excess kurtosis? (This matters for algorithms that assume normal distributions in the data.) \n",
    "+ [ ] Are there gaps in the distributions, such as bi-modal or multi-modal distributions? \n",
    "+ [ ] Are there any values in the categorical variables that don’t match the dictionary of valid values? \n",
    "+ [ ] Are there any high-cardinality categorical variables? [That is categorical values with too many categories]\n",
    "+ [ ] Are there any categorical variables with large percentages of records having a single value?\n",
    "+ [ ] Are there any unusually strong relationships with the target variable, possibly indicating leakage of the target into a candidate input variable? \n",
    "+ [ ] Are any variables highly correlated with each other, possibly indicating redundant variables? \n",
    "+ [ ] Multicollinearity is a problem for linear models like linear regression\n",
    "+ [ ] Are there any crosstabs that show strong relationships between categorical variables, possibly indicating redundant variables?"
   ]
  },
  {
   "cell_type": "code",
   "execution_count": 16,
   "metadata": {},
   "outputs": [
    {
     "name": "stdout",
     "output_type": "stream",
     "text": [
      "<class 'pandas.core.frame.DataFrame'>\n",
      "RangeIndex: 12684 entries, 0 to 12683\n",
      "Data columns (total 26 columns):\n",
      " #   Column                Non-Null Count  Dtype \n",
      "---  ------                --------------  ----- \n",
      " 0   destination           12684 non-null  object\n",
      " 1   passanger             12684 non-null  object\n",
      " 2   weather               12684 non-null  object\n",
      " 3   temperature           12684 non-null  int64 \n",
      " 4   time                  12684 non-null  object\n",
      " 5   coupon                12684 non-null  object\n",
      " 6   expiration            12684 non-null  object\n",
      " 7   gender                12684 non-null  object\n",
      " 8   age                   12684 non-null  object\n",
      " 9   maritalStatus         12684 non-null  object\n",
      " 10  has_children          12684 non-null  int64 \n",
      " 11  education             12684 non-null  object\n",
      " 12  occupation            12684 non-null  object\n",
      " 13  income                12684 non-null  object\n",
      " 14  car                   108 non-null    object\n",
      " 15  Bar                   12577 non-null  object\n",
      " 16  CoffeeHouse           12467 non-null  object\n",
      " 17  CarryAway             12533 non-null  object\n",
      " 18  RestaurantLessThan20  12554 non-null  object\n",
      " 19  Restaurant20To50      12495 non-null  object\n",
      " 20  toCoupon_GEQ5min      12684 non-null  int64 \n",
      " 21  toCoupon_GEQ15min     12684 non-null  int64 \n",
      " 22  toCoupon_GEQ25min     12684 non-null  int64 \n",
      " 23  direction_same        12684 non-null  int64 \n",
      " 24  direction_opp         12684 non-null  int64 \n",
      " 25  Y                     12684 non-null  int64 \n",
      "dtypes: int64(8), object(18)\n",
      "memory usage: 2.5+ MB\n"
     ]
    },
    {
     "data": {
      "text/plain": [
       "object    18\n",
       "int64      8\n",
       "Name: count, dtype: int64"
      ]
     },
     "execution_count": 16,
     "metadata": {},
     "output_type": "execute_result"
    }
   ],
   "source": [
    "# Number of rows and columns\n",
    "df.info()\n",
    "df.dtypes.keys()\n",
    "df.dtypes.value_counts()"
   ]
  },
  {
   "attachments": {},
   "cell_type": "markdown",
   "metadata": {},
   "source": [
    "## 1. Preferred Coupon Categories\n",
    "\n",
    "Plot histogram of Coupon categories and highlight Customer's decision (Used vs Ignored)"
   ]
  },
  {
   "cell_type": "code",
   "execution_count": 17,
   "metadata": {},
   "outputs": [
    {
     "name": "stderr",
     "output_type": "stream",
     "text": [
      "/var/folders/mf/41zwz2m91xsbd2yq5yx308r40000gn/T/ipykernel_48765/3384725981.py:6: UserWarning: FixedFormatter should only be used together with FixedLocator\n",
      "  my_plot.set_xticklabels(my_plot.get_xticklabels(), rotation=45, horizontalalignment='right')\n"
     ]
    }
   ],
   "source": [
    "# Map legend - reference: https://stackoverflow.com/questions/63976658/how-to-customize-seaborn-scatterplot-legends\n",
    "legend_map = {1:'Yes',0: 'No'}\n",
    "\n",
    "my_plot = sns.histplot(data = df, x='coupon')\n",
    "# Rotate axis - https://www.statology.org/seaborn-rotate-axis-labels/\n",
    "my_plot.set_xticklabels(my_plot.get_xticklabels(), rotation=45, horizontalalignment='right')\n",
    "my_plot = sns.countplot(data=df, x='coupon', hue = df['Y'].map(legend_map))\n",
    "my_plot.set(title='User Preferences')\n",
    "plt.legend(title='Coupon Used')\n",
    "# Avoid cropping saved picture, as described in https://stackoverflow.com/questions/37427362/plt-show-shows-full-graph-but-savefig-is-cropping-the-image\n",
    "plt.tight_layout()\n",
    "my_plot.figure.savefig('images/user_preferences.jpg')\n",
    "# Make sure that we overwrite images on each run, as described in https://stackoverflow.com/questions/49039581/matplotlib-savefig-will-not-overwrite-old-files\n",
    "plt.close()\n",
    "\n"
   ]
  },
  {
   "attachments": {},
   "cell_type": "markdown",
   "metadata": {},
   "source": [
    "### 2. User categories\n",
    "\n",
    "Evaluate the categories of users that use the coupon versus not\n",
    "+ Check impact of education"
   ]
  },
  {
   "cell_type": "code",
   "execution_count": 18,
   "metadata": {},
   "outputs": [
    {
     "name": "stdout",
     "output_type": "stream",
     "text": [
      "<class 'pandas.core.frame.DataFrame'>\n",
      "RangeIndex: 60 entries, 0 to 59\n",
      "Data columns (total 4 columns):\n",
      " #   Column      Non-Null Count  Dtype  \n",
      "---  ------      --------------  -----  \n",
      " 0   Y           60 non-null     int64  \n",
      " 1   coupon      60 non-null     object \n",
      " 2   education   60 non-null     object \n",
      " 3   proportion  60 non-null     float64\n",
      "dtypes: float64(1), int64(1), object(2)\n",
      "memory usage: 2.0+ KB\n"
     ]
    }
   ],
   "source": [
    "# Create a new column named proportion, which provides the normalized population\n",
    "normalized_df = df.groupby(['Y', 'coupon']).aggregate('education').value_counts(normalize=True, ascending = False).reset_index()\n",
    "normalized_df.info()\n",
    "normalized_df.head()\n",
    "\n",
    "# legend_map = {1:'Yes',0: 'No'}\n",
    "my_plot = sns.boxplot(normalized_df, x='education', y='proportion', hue = normalized_df['Y'].map(legend_map))\n",
    "my_plot.set_xticklabels(my_plot.get_xticklabels(), rotation=45, horizontalalignment='right')\n",
    "my_plot.set(title='Proportion by user education')\n",
    "plt.legend(title='Coupon Used')\n",
    "# Avoid cropping saved picture, as described in https://stackoverflow.com/questions/37427362/plt-show-shows-full-graph-but-savefig-is-cropping-the-image\n",
    "plt.tight_layout()\n",
    "my_plot.figure.savefig('images/user_education.jpg')\n",
    "#Make sure that we overwrite images on each run, as described in https://stackoverflow.com/questions/49039581/matplotlib-savefig-will-not-overwrite-old-files\n",
    "plt.close()"
   ]
  },
  {
   "attachments": {},
   "cell_type": "markdown",
   "metadata": {},
   "source": [
    "- Check impact of gender"
   ]
  },
  {
   "cell_type": "code",
   "execution_count": null,
   "metadata": {},
   "outputs": [],
   "source": [
    "category = 'gender'\n",
    "# Create a new column named proportion, which provides the normalized population\n",
    "normalized_df = df.groupby(['Y', 'coupon']).aggregate(category).value_counts(normalize=True, ascending = False).reset_index()\n",
    "normalized_df.info()\n",
    "normalized_df.head()\n",
    "\n",
    "# legend_map = {1:'Yes',0: 'No'}\n",
    "my_plot = sns.boxplot(normalized_df, x=category, y='proportion', hue = normalized_df['Y'].map(legend_map))\n",
    "my_plot.set_xticklabels(my_plot.get_xticklabels(), rotation=45, horizontalalignment='right')\n",
    "my_plot.set(title='Proportion by user %s' % category)\n",
    "plt.legend(title='Coupon Used')\n",
    "# Avoid cropping saved picture, as described in https://stackoverflow.com/questions/37427362/plt-show-shows-full-graph-but-savefig-is-cropping-the-image\n",
    "plt.tight_layout()\n",
    "my_plot.figure.savefig('images/user_%s.jpg' % category)\n",
    "#Make sure that we overwrite images on each run, as described in https://stackoverflow.com/questions/49039581/matplotlib-savefig-will-not-overwrite-old-files\n",
    "plt.close()"
   ]
  },
  {
   "attachments": {},
   "cell_type": "markdown",
   "metadata": {},
   "source": [
    "### 3. Correlation Plot"
   ]
  },
  {
   "cell_type": "code",
   "execution_count": 21,
   "metadata": {},
   "outputs": [],
   "source": [
    "my_plot = sns.pairplot(df, kind = \"reg\")\n",
    "# my_plot.set_xticklabels(my_plot.get_xticklabels(), rotation=45, horizontalalignment='right')\n",
    "my_plot.set(title='Correlations')\n",
    "# Avoid cropping saved picture, as described in https://stackoverflow.com/questions/37427362/plt-show-shows-full-graph-but-savefig-is-cropping-the-image\n",
    "plt.tight_layout()\n",
    "my_plot.figure.savefig('images/correlations.jpg')\n",
    "# Make sure that we overwrite images on each run, as described in https://stackoverflow.com/questions/49039581/matplotlib-savefig-will-not-overwrite-old-files\n",
    "plt.close()"
   ]
  },
  {
   "cell_type": "code",
   "execution_count": 20,
   "metadata": {},
   "outputs": [],
   "source": [
    "my_plot = sns.pairplot"
   ]
  }
 ],
 "metadata": {
  "kernelspec": {
   "display_name": ".venv",
   "language": "python",
   "name": "python3"
  },
  "language_info": {
   "codemirror_mode": {
    "name": "ipython",
    "version": 3
   },
   "file_extension": ".py",
   "mimetype": "text/x-python",
   "name": "python",
   "nbconvert_exporter": "python",
   "pygments_lexer": "ipython3",
   "version": "3.10.0"
  },
  "orig_nbformat": 4
 },
 "nbformat": 4,
 "nbformat_minor": 2
}
